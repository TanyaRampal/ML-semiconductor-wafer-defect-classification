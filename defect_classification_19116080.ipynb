{
 "cells": [
  {
   "cell_type": "markdown",
   "id": "2ee280cf",
   "metadata": {},
   "source": [
    "# <ins>Semiconductor Wafer Defect Classification</ins>"
   ]
  },
  {
   "cell_type": "markdown",
   "id": "a41441bd",
   "metadata": {},
   "source": [
    "---\n",
    "## 1. Importing the data"
   ]
  },
  {
   "cell_type": "code",
   "execution_count": 1,
   "id": "4f2415de",
   "metadata": {},
   "outputs": [],
   "source": [
    "# required libraries\n",
    "import numpy as np \n",
    "import pandas as pd \n",
    "import matplotlib.pyplot as plt\n",
    "%matplotlib inline\n",
    "\n",
    "import warnings\n",
    "warnings.simplefilter(action='ignore', category=FutureWarning)\n",
    "warnings.simplefilter(action='ignore', category=UserWarning)\n",
    "from pandas.core.common import SettingWithCopyWarning\n",
    "warnings.simplefilter(action=\"ignore\", category=SettingWithCopyWarning)"
   ]
  },
  {
   "cell_type": "code",
   "execution_count": 2,
   "id": "899feb22",
   "metadata": {},
   "outputs": [],
   "source": [
    "# importing the data\n",
    "df=pd.read_pickle(\"LSWMD.pkl/LSWMD.pkl\")"
   ]
  },
  {
   "cell_type": "code",
   "execution_count": 3,
   "id": "6e148852",
   "metadata": {},
   "outputs": [
    {
     "data": {
      "text/html": [
       "<div>\n",
       "<style scoped>\n",
       "    .dataframe tbody tr th:only-of-type {\n",
       "        vertical-align: middle;\n",
       "    }\n",
       "\n",
       "    .dataframe tbody tr th {\n",
       "        vertical-align: top;\n",
       "    }\n",
       "\n",
       "    .dataframe thead th {\n",
       "        text-align: right;\n",
       "    }\n",
       "</style>\n",
       "<table border=\"1\" class=\"dataframe\">\n",
       "  <thead>\n",
       "    <tr style=\"text-align: right;\">\n",
       "      <th></th>\n",
       "      <th>waferMap</th>\n",
       "      <th>dieSize</th>\n",
       "      <th>lotName</th>\n",
       "      <th>waferIndex</th>\n",
       "      <th>trianTestLabel</th>\n",
       "      <th>failureType</th>\n",
       "    </tr>\n",
       "  </thead>\n",
       "  <tbody>\n",
       "    <tr>\n",
       "      <th>0</th>\n",
       "      <td>[[0, 0, 0, 0, 0, 0, 0, 0, 0, 0, 0, 0, 0, 0, 0,...</td>\n",
       "      <td>1683.0</td>\n",
       "      <td>lot1</td>\n",
       "      <td>1.0</td>\n",
       "      <td>[[Training]]</td>\n",
       "      <td>[[none]]</td>\n",
       "    </tr>\n",
       "    <tr>\n",
       "      <th>1</th>\n",
       "      <td>[[0, 0, 0, 0, 0, 0, 0, 0, 0, 0, 0, 0, 0, 0, 0,...</td>\n",
       "      <td>1683.0</td>\n",
       "      <td>lot1</td>\n",
       "      <td>2.0</td>\n",
       "      <td>[[Training]]</td>\n",
       "      <td>[[none]]</td>\n",
       "    </tr>\n",
       "    <tr>\n",
       "      <th>2</th>\n",
       "      <td>[[0, 0, 0, 0, 0, 0, 0, 0, 0, 0, 0, 0, 0, 0, 0,...</td>\n",
       "      <td>1683.0</td>\n",
       "      <td>lot1</td>\n",
       "      <td>3.0</td>\n",
       "      <td>[[Training]]</td>\n",
       "      <td>[[none]]</td>\n",
       "    </tr>\n",
       "    <tr>\n",
       "      <th>3</th>\n",
       "      <td>[[0, 0, 0, 0, 0, 0, 0, 0, 0, 0, 0, 0, 0, 0, 0,...</td>\n",
       "      <td>1683.0</td>\n",
       "      <td>lot1</td>\n",
       "      <td>4.0</td>\n",
       "      <td>[[Training]]</td>\n",
       "      <td>[[none]]</td>\n",
       "    </tr>\n",
       "    <tr>\n",
       "      <th>4</th>\n",
       "      <td>[[0, 0, 0, 0, 0, 0, 0, 0, 0, 0, 0, 0, 0, 0, 0,...</td>\n",
       "      <td>1683.0</td>\n",
       "      <td>lot1</td>\n",
       "      <td>5.0</td>\n",
       "      <td>[[Training]]</td>\n",
       "      <td>[[none]]</td>\n",
       "    </tr>\n",
       "  </tbody>\n",
       "</table>\n",
       "</div>"
      ],
      "text/plain": [
       "                                            waferMap  dieSize lotName  \\\n",
       "0  [[0, 0, 0, 0, 0, 0, 0, 0, 0, 0, 0, 0, 0, 0, 0,...   1683.0    lot1   \n",
       "1  [[0, 0, 0, 0, 0, 0, 0, 0, 0, 0, 0, 0, 0, 0, 0,...   1683.0    lot1   \n",
       "2  [[0, 0, 0, 0, 0, 0, 0, 0, 0, 0, 0, 0, 0, 0, 0,...   1683.0    lot1   \n",
       "3  [[0, 0, 0, 0, 0, 0, 0, 0, 0, 0, 0, 0, 0, 0, 0,...   1683.0    lot1   \n",
       "4  [[0, 0, 0, 0, 0, 0, 0, 0, 0, 0, 0, 0, 0, 0, 0,...   1683.0    lot1   \n",
       "\n",
       "   waferIndex trianTestLabel failureType  \n",
       "0         1.0   [[Training]]    [[none]]  \n",
       "1         2.0   [[Training]]    [[none]]  \n",
       "2         3.0   [[Training]]    [[none]]  \n",
       "3         4.0   [[Training]]    [[none]]  \n",
       "4         5.0   [[Training]]    [[none]]  "
      ]
     },
     "execution_count": 3,
     "metadata": {},
     "output_type": "execute_result"
    }
   ],
   "source": [
    "df.head()"
   ]
  },
  {
   "cell_type": "code",
   "execution_count": 4,
   "id": "397421d6",
   "metadata": {},
   "outputs": [
    {
     "name": "stdout",
     "output_type": "stream",
     "text": [
      "<class 'pandas.core.frame.DataFrame'>\n",
      "RangeIndex: 811457 entries, 0 to 811456\n",
      "Data columns (total 6 columns):\n",
      " #   Column          Non-Null Count   Dtype  \n",
      "---  ------          --------------   -----  \n",
      " 0   waferMap        811457 non-null  object \n",
      " 1   dieSize         811457 non-null  float64\n",
      " 2   lotName         811457 non-null  object \n",
      " 3   waferIndex      811457 non-null  float64\n",
      " 4   trianTestLabel  811457 non-null  object \n",
      " 5   failureType     811457 non-null  object \n",
      "dtypes: float64(2), object(4)\n",
      "memory usage: 37.1+ MB\n"
     ]
    }
   ],
   "source": [
    "df.info()"
   ]
  },
  {
   "cell_type": "code",
   "execution_count": 5,
   "id": "e306ca88",
   "metadata": {},
   "outputs": [
    {
     "data": {
      "text/plain": [
       "811457"
      ]
     },
     "execution_count": 5,
     "metadata": {},
     "output_type": "execute_result"
    }
   ],
   "source": [
    "total_wafers_num = df.shape[0]\n",
    "total_wafers_num"
   ]
  },
  {
   "cell_type": "code",
   "execution_count": 6,
   "id": "4ca2612e",
   "metadata": {},
   "outputs": [
    {
     "name": "stdout",
     "output_type": "stream",
     "text": [
      "Wafers with a defect: 172950\n",
      "Wafers with a defect(excluding none): 25519\n",
      "Wafers with defect 'none': 147431\n"
     ]
    }
   ],
   "source": [
    "# giving a label to all the defect types to get their numbers easily\n",
    "df['failure_ordinal_enc']=df.failureType\n",
    "mapping_defects={'Center':0,'Donut':1,'Edge-Loc':2,'Edge-Ring':3,'Loc':4,'Random':5,'Scratch':6,'Near-full':7,'none':8}\n",
    "df=df.replace({'failure_ordinal_enc': mapping_defects})\n",
    "\n",
    "df_with_defect_num = df[(df['failure_ordinal_enc']>=0) & (df['failure_ordinal_enc']<=8)].shape[0]\n",
    "df_with_pattern = df[(df['failure_ordinal_enc']>=0) & (df['failure_ordinal_enc']<=7)].reset_index()\n",
    "df_with_pattern_num = df[(df['failure_ordinal_enc']>=0) & (df['failure_ordinal_enc']<=7)].shape[0]\n",
    "df_with_none_num = df[(df['failure_ordinal_enc']==8)].shape[0]\n",
    "\n",
    "print(\"Wafers with a defect:\", df_with_defect_num)\n",
    "print(\"Wafers with a defect(excluding none):\", df_with_pattern_num)\n",
    "print(\"Wafers with defect 'none':\", df_with_none_num)"
   ]
  },
  {
   "cell_type": "markdown",
   "id": "19213db5",
   "metadata": {},
   "source": [
    "## 2. Data analysis"
   ]
  },
  {
   "cell_type": "markdown",
   "id": "55d254c8",
   "metadata": {},
   "source": [
    "**2.1 Distribution of data** "
   ]
  },
  {
   "cell_type": "code",
   "execution_count": 7,
   "id": "002f6f47",
   "metadata": {},
   "outputs": [
    {
     "data": {
      "image/png": "[encoded data removed]",
      "text/plain": [
       "<Figure size 1440x360 with 2 Axes>"
      ]
     },
     "metadata": {
      "needs_background": "light"
     },
     "output_type": "display_data"
    }
   ],
   "source": [
    "# ax1 is the pie chart, ax2 is the bar graph\n",
    "fig, (ax1, ax2) = plt.subplots(1, 2,figsize=(20, 5))\n",
    "\n",
    "# pie chart\n",
    "# distribution = [number of wafers with no defect, \n",
    "#                 number of wafers with a defect (excluding 'none'), \n",
    "#                 number of wafers with defect 'none']\n",
    "distribution=[total_wafers_num - df_with_defect_num, \n",
    "              df_with_pattern_num, \n",
    "              df_with_none_num]\n",
    "\n",
    "ax1.pie(distribution,  \n",
    "        explode=(0.05, 0.05, 0.05),\n",
    "        labels=['no defect','defect(excluding \\'none\\')','defect \\'none\\''],\n",
    "        colors=['lightgray', 'orange', 'gold'], \n",
    "        autopct='%1.1f%%', shadow=True, startangle=30)\n",
    "ax1.set_title(\"Pie-chart of distribution of wafers\")\n",
    "\n",
    "# bar graph\n",
    "# unique_pattern = (array([0, 1, 2, 3, 4, 5, 6, 7], dtype=object),\n",
    "#                   array([4294,  555, 5189, 9680, 3593,  866, 1193,  149], dtype=int64))\n",
    "# basically it contains each defect's frequency\n",
    "unique_pattern=np.unique(df_with_pattern.failure_ordinal_enc, return_counts=True)\n",
    "\n",
    "labels = ['Center','Donut','Edge-Loc','Edge-Ring','Loc','Random','Scratch','Near-full','excess']\n",
    "ax2.bar(unique_pattern[0],unique_pattern[1]/df_with_pattern_num, color='gold', align='center', alpha=0.9)\n",
    "ax2.set_title(\"Frequency of defects\")\n",
    "ax2.set_ylabel(\"% of wafers with defects\")\n",
    "ax2.set_xticklabels(labels)\n",
    "ax2.set_title(\"Bar graph of distribution of wafer defects\")\n",
    "\n",
    "plt.show()"
   ]
  },
  {
   "cell_type": "markdown",
   "id": "dba44a00",
   "metadata": {},
   "source": [
    "**2.2 Visualisation of defects** "
   ]
  },
  {
   "cell_type": "code",
   "execution_count": 8,
   "id": "447732b7",
   "metadata": {},
   "outputs": [
    {
     "data": {
      "image/png": "[encoded data removed]",
      "text/plain": [
       "<Figure size 1440x720 with 8 Axes>"
      ]
     },
     "metadata": {},
     "output_type": "display_data"
    }
   ],
   "source": [
    "x = [9,340, 3, 16, 0, 25, 84, 37]\n",
    "# {'Center': 9, 'Donut': 340, 'Edge-Loc': 3, 'Edge-Ring': 16, 'Loc': 0, 'Random': 25,  'Scratch': 84, 'Near-full': 37}\n",
    "\n",
    "fig, ax = plt.subplots(nrows = 2, ncols = 4, figsize=(20, 10))\n",
    "ax = ax.ravel(order='C')\n",
    "\n",
    "for i in range(8):\n",
    "    ax[i].imshow(df_with_pattern.waferMap[x[i]])\n",
    "    ax[i].set_title(df_with_pattern.failureType[x[i]][0][0],fontsize=24)\n",
    "    ax[i].set_xticks([])\n",
    "    ax[i].set_yticks([])\n",
    "\n",
    "plt.show() "
   ]
  },
  {
   "cell_type": "markdown",
   "id": "4944c704",
   "metadata": {},
   "source": [
    "## 3. Data preprocessing"
   ]
  },
  {
   "cell_type": "markdown",
   "id": "7ccbb001",
   "metadata": {},
   "source": [
    "**3.1 Checking the image dimensions**"
   ]
  },
  {
   "cell_type": "code",
   "execution_count": 9,
   "id": "45dcf755",
   "metadata": {},
   "outputs": [
    {
     "data": {
      "text/html": [
       "<div>\n",
       "<style scoped>\n",
       "    .dataframe tbody tr th:only-of-type {\n",
       "        vertical-align: middle;\n",
       "    }\n",
       "\n",
       "    .dataframe tbody tr th {\n",
       "        vertical-align: top;\n",
       "    }\n",
       "\n",
       "    .dataframe thead th {\n",
       "        text-align: right;\n",
       "    }\n",
       "</style>\n",
       "<table border=\"1\" class=\"dataframe\">\n",
       "  <thead>\n",
       "    <tr style=\"text-align: right;\">\n",
       "      <th></th>\n",
       "      <th>waferMap</th>\n",
       "      <th>dieSize</th>\n",
       "      <th>lotName</th>\n",
       "      <th>waferIndex</th>\n",
       "      <th>trianTestLabel</th>\n",
       "      <th>failureType</th>\n",
       "      <th>failure_ordinal_enc</th>\n",
       "      <th>waferMapDim</th>\n",
       "    </tr>\n",
       "  </thead>\n",
       "  <tbody>\n",
       "    <tr>\n",
       "      <th>85099</th>\n",
       "      <td>[[0, 0, 0, 0, 0, 0, 0, 0, 0, 0, 0, 0, 2, 2, 2,...</td>\n",
       "      <td>939.0</td>\n",
       "      <td>lot6095</td>\n",
       "      <td>8.0</td>\n",
       "      <td>[]</td>\n",
       "      <td>[]</td>\n",
       "      <td>[]</td>\n",
       "      <td>(39, 31)</td>\n",
       "    </tr>\n",
       "    <tr>\n",
       "      <th>167690</th>\n",
       "      <td>[[0, 0, 0, 0, 0, 0, 0, 0, 0, 0, 0, 0, 0, 0, 0,...</td>\n",
       "      <td>572.0</td>\n",
       "      <td>lot10682</td>\n",
       "      <td>10.0</td>\n",
       "      <td>[]</td>\n",
       "      <td>[]</td>\n",
       "      <td>[]</td>\n",
       "      <td>(22, 35)</td>\n",
       "    </tr>\n",
       "    <tr>\n",
       "      <th>505340</th>\n",
       "      <td>[[0, 0, 0, 0, 0, 0, 0, 0, 0, 0, 0, 0, 1, 1, 1,...</td>\n",
       "      <td>710.0</td>\n",
       "      <td>lot31396</td>\n",
       "      <td>23.0</td>\n",
       "      <td>[]</td>\n",
       "      <td>[]</td>\n",
       "      <td>[]</td>\n",
       "      <td>(32, 29)</td>\n",
       "    </tr>\n",
       "    <tr>\n",
       "      <th>309965</th>\n",
       "      <td>[[0, 0, 0, 0, 0, 0, 0, 0, 0, 0, 0, 0, 0, 0, 2,...</td>\n",
       "      <td>1139.0</td>\n",
       "      <td>lot18864</td>\n",
       "      <td>1.0</td>\n",
       "      <td>[]</td>\n",
       "      <td>[]</td>\n",
       "      <td>[]</td>\n",
       "      <td>(38, 38)</td>\n",
       "    </tr>\n",
       "    <tr>\n",
       "      <th>223583</th>\n",
       "      <td>[[0, 0, 0, 0, 0, 0, 0, 0, 0, 0, 0, 0, 0, 0, 2,...</td>\n",
       "      <td>1109.0</td>\n",
       "      <td>lot14074</td>\n",
       "      <td>22.0</td>\n",
       "      <td>[]</td>\n",
       "      <td>[]</td>\n",
       "      <td>[]</td>\n",
       "      <td>(39, 37)</td>\n",
       "    </tr>\n",
       "  </tbody>\n",
       "</table>\n",
       "</div>"
      ],
      "text/plain": [
       "                                                 waferMap  dieSize   lotName  \\\n",
       "85099   [[0, 0, 0, 0, 0, 0, 0, 0, 0, 0, 0, 0, 2, 2, 2,...    939.0   lot6095   \n",
       "167690  [[0, 0, 0, 0, 0, 0, 0, 0, 0, 0, 0, 0, 0, 0, 0,...    572.0  lot10682   \n",
       "505340  [[0, 0, 0, 0, 0, 0, 0, 0, 0, 0, 0, 0, 1, 1, 1,...    710.0  lot31396   \n",
       "309965  [[0, 0, 0, 0, 0, 0, 0, 0, 0, 0, 0, 0, 0, 0, 2,...   1139.0  lot18864   \n",
       "223583  [[0, 0, 0, 0, 0, 0, 0, 0, 0, 0, 0, 0, 0, 0, 2,...   1109.0  lot14074   \n",
       "\n",
       "        waferIndex trianTestLabel failureType failure_ordinal_enc waferMapDim  \n",
       "85099          8.0             []          []                  []    (39, 31)  \n",
       "167690        10.0             []          []                  []    (22, 35)  \n",
       "505340        23.0             []          []                  []    (32, 29)  \n",
       "309965         1.0             []          []                  []    (38, 38)  \n",
       "223583        22.0             []          []                  []    (39, 37)  "
      ]
     },
     "execution_count": 9,
     "metadata": {},
     "output_type": "execute_result"
    }
   ],
   "source": [
    "# creating a new column \n",
    "def find_dim(x):\n",
    "    dim_x=np.size(x,axis=0)\n",
    "    dim_y=np.size(x,axis=1)\n",
    "    return dim_x,dim_y\n",
    "df['waferMapDim']=df.waferMap.apply(find_dim)\n",
    "df.sample(5)"
   ]
  },
  {
   "cell_type": "markdown",
   "id": "ea888dfa",
   "metadata": {},
   "source": [
    "**3.2 Making new datasets for defective data, and splitting into test-train**"
   ]
  },
  {
   "cell_type": "code",
   "execution_count": 10,
   "id": "485a23a2",
   "metadata": {},
   "outputs": [],
   "source": [
    "# making new datasets of those with defects, and those with defects(exclusing 'none')\n",
    "df_with_defect = df[(df['failure_ordinal_enc']>=0) & (df['failure_ordinal_enc']<=8)]\n",
    "df_with_pattern = df[(df['failure_ordinal_enc']>=0) & (df['failure_ordinal_enc']<=7)].reset_index()\n",
    "\n",
    "# splitting into testing and training data based on dataset label (unproc=unprocessed)\n",
    "x_train_unproc=df_with_pattern[(df_with_pattern['trianTestLabel']=='Training')].waferMap.reset_index()\n",
    "y_train_unproc=df_with_pattern[(df_with_pattern['trianTestLabel']=='Training')].failureType.reset_index()\n",
    "\n",
    "x_test_unproc=df_with_pattern[(df_with_pattern['trianTestLabel']=='Test')].waferMap.reset_index()\n",
    "y_test_unproc=df_with_pattern[(df_with_pattern['trianTestLabel']=='Test')].failureType.reset_index()"
   ]
  },
  {
   "cell_type": "code",
   "execution_count": 11,
   "id": "c9490ec9",
   "metadata": {},
   "outputs": [
    {
     "data": {
      "text/plain": [
       "(212, 84)"
      ]
     },
     "execution_count": 11,
     "metadata": {},
     "output_type": "execute_result"
    }
   ],
   "source": [
    "max(df_with_defect.waferMapDim)"
   ]
  },
  {
   "cell_type": "markdown",
   "id": "f739f131",
   "metadata": {},
   "source": [
    "**3.3 Modifying training and testing data to fit classifiers**"
   ]
  },
  {
   "cell_type": "code",
   "execution_count": 12,
   "id": "b399ebbd",
   "metadata": {},
   "outputs": [],
   "source": [
    "# making wafer map dimensions (size) equal to fit in the classifier\n",
    "x_train=[]\n",
    "for i in range(x_train_unproc.shape[0]):\n",
    "    img=x_train_unproc['waferMap'][i].copy()\n",
    "    img.resize(220,90)\n",
    "    img_new=img.reshape(-1)\n",
    "    x_train.append(img_new)\n",
    "    \n",
    "# changing y values from nested list to string type\n",
    "y_train=[type[0][0] for type in y_train_unproc['failureType']]\n",
    "\n",
    "x_test=[]\n",
    "for i in range(x_test_unproc.shape[0]):\n",
    "    img=x_test_unproc['waferMap'][i].copy()\n",
    "    img.resize(220,90)\n",
    "    img_new=img.reshape(-1)\n",
    "    x_test.append(img_new)\n",
    "    \n",
    "# changing y values from nested list to string type\n",
    "y_test=[type[0][0] for type in y_test_unproc['failureType']]"
   ]
  },
  {
   "cell_type": "markdown",
   "id": "dc8809e3",
   "metadata": {},
   "source": [
    "## 4. Models"
   ]
  },
  {
   "cell_type": "code",
   "execution_count": 13,
   "id": "e5cf29af",
   "metadata": {},
   "outputs": [],
   "source": [
    "from sklearn.metrics import confusion_matrix, classification_report"
   ]
  },
  {
   "cell_type": "markdown",
   "id": "44478aee",
   "metadata": {},
   "source": [
    "**4.1 Logistic Regression**"
   ]
  },
  {
   "cell_type": "code",
   "execution_count": 14,
   "id": "d70cf01b",
   "metadata": {},
   "outputs": [
    {
     "data": {
      "text/plain": [
       "LogisticRegression()"
      ]
     },
     "execution_count": 14,
     "metadata": {},
     "output_type": "execute_result"
    }
   ],
   "source": [
    "from sklearn.linear_model import LogisticRegression\n",
    "\n",
    "log_reg=LogisticRegression()\n",
    "log_reg.fit(x_train, y_train)"
   ]
  },
  {
   "cell_type": "code",
   "execution_count": 15,
   "id": "52399479",
   "metadata": {},
   "outputs": [
    {
     "data": {
      "text/plain": [
       "array(['Center', 'Donut', 'Edge-Loc', 'Edge-Ring', 'Loc', 'Near-full',\n",
       "       'Random', 'Scratch'], dtype='<U9')"
      ]
     },
     "execution_count": 15,
     "metadata": {},
     "output_type": "execute_result"
    }
   ],
   "source": [
    "log_reg.classes_"
   ]
  },
  {
   "cell_type": "code",
   "execution_count": 16,
   "id": "ac011ad1",
   "metadata": {},
   "outputs": [
    {
     "name": "stdout",
     "output_type": "stream",
     "text": [
      "              precision    recall  f1-score   support\n",
      "\n",
      "      Center       0.95      0.95      0.95      3462\n",
      "       Donut       0.94      0.92      0.93       409\n",
      "    Edge-Loc       0.81      0.89      0.85      2417\n",
      "   Edge-Ring       0.99      0.99      0.99      8554\n",
      "         Loc       0.82      0.78      0.80      1620\n",
      "   Near-full       0.60      0.22      0.32        54\n",
      "      Random       0.92      0.84      0.88       609\n",
      "     Scratch       0.85      0.74      0.79       500\n",
      "\n",
      "    accuracy                           0.93     17625\n",
      "   macro avg       0.86      0.79      0.81     17625\n",
      "weighted avg       0.93      0.93      0.93     17625\n",
      "\n",
      "Diagonal elements of confusion matrix: \n",
      "3291, 376, 2149, 8447, 1261, 12, 514, 371, "
     ]
    },
    {
     "data": {
      "text/plain": [
       "array([[3291,    7,   81,    7,   60,    0,    5,   11],\n",
       "       [   6,  376,   12,    2,   13,    0,    0,    0],\n",
       "       [  59,    3, 2149,   57,  116,    5,   12,   16],\n",
       "       [   6,    0,   83, 8447,    6,    0,    6,    6],\n",
       "       [  73,   15,  215,   12, 1261,    2,   15,   27],\n",
       "       [   2,    0,   23,    0,   11,   12,    6,    0],\n",
       "       [  15,    1,   43,    3,   29,    1,  514,    3],\n",
       "       [  14,    0,   63,    7,   42,    0,    3,  371]], dtype=int64)"
      ]
     },
     "execution_count": 16,
     "metadata": {},
     "output_type": "execute_result"
    }
   ],
   "source": [
    "y_pred_train=log_reg.predict(x_train)\n",
    "\n",
    "print(classification_report(y_train, y_pred_train))\n",
    "cm=confusion_matrix(y_train, y_pred_train)\n",
    "print('Diagonal elements of confusion matrix: ')\n",
    "for i in range(0,cm.shape[0]):\n",
    "    print(cm[i][i], end =\", \"),\n",
    "cm"
   ]
  },
  {
   "cell_type": "code",
   "execution_count": 17,
   "id": "105aabf1",
   "metadata": {},
   "outputs": [
    {
     "name": "stdout",
     "output_type": "stream",
     "text": [
      "              precision    recall  f1-score   support\n",
      "\n",
      "      Center       0.20      0.38      0.27       832\n",
      "       Donut       0.20      0.03      0.05       146\n",
      "    Edge-Loc       0.39      0.38      0.39      2772\n",
      "   Edge-Ring       0.47      0.30      0.37      1126\n",
      "         Loc       0.31      0.30      0.30      1973\n",
      "   Near-full       0.12      0.01      0.02        95\n",
      "      Random       0.04      0.12      0.06       257\n",
      "     Scratch       0.11      0.03      0.05       693\n",
      "\n",
      "    accuracy                           0.30      7894\n",
      "   macro avg       0.23      0.19      0.19      7894\n",
      "weighted avg       0.32      0.30      0.30      7894\n",
      "\n",
      "Diagonal elements of confusion matrix: \n",
      "317, 4, 1050, 340, 588, 1, 30, 23, "
     ]
    },
    {
     "data": {
      "text/plain": [
       "array([[ 317,    1,  244,   43,  159,    0,   41,   27],\n",
       "       [  22,    4,   15,    0,   97,    0,    1,    7],\n",
       "       [ 604,    3, 1050,  191,  689,    4,  202,   29],\n",
       "       [ 102,    0,  248,  340,   77,    0,  343,   16],\n",
       "       [ 323,    7,  757,   88,  588,    1,  127,   82],\n",
       "       [  13,    1,   39,    2,   17,    1,   10,   12],\n",
       "       [  57,    2,   75,    4,   81,    0,   30,    8],\n",
       "       [ 120,    2,  251,   49,  189,    2,   57,   23]], dtype=int64)"
      ]
     },
     "execution_count": 17,
     "metadata": {},
     "output_type": "execute_result"
    }
   ],
   "source": [
    "y_pred_test=log_reg.predict(x_test)\n",
    "\n",
    "print(classification_report(y_test, y_pred_test))\n",
    "cm=confusion_matrix(y_test, y_pred_test)\n",
    "print('Diagonal elements of confusion matrix: ')\n",
    "for i in range(0,cm.shape[0]):\n",
    "    print(cm[i][i], end =\", \"),\n",
    "cm"
   ]
  },
  {
   "cell_type": "markdown",
   "id": "44a59003",
   "metadata": {},
   "source": [
    "**4.2 K-Nearest Neighbours**"
   ]
  },
  {
   "cell_type": "code",
   "execution_count": 18,
   "id": "f50a31b0",
   "metadata": {},
   "outputs": [
    {
     "data": {
      "text/plain": [
       "KNeighborsClassifier()"
      ]
     },
     "execution_count": 18,
     "metadata": {},
     "output_type": "execute_result"
    }
   ],
   "source": [
    "from sklearn.neighbors import KNeighborsClassifier\n",
    "\n",
    "knn_clf = KNeighborsClassifier()\n",
    "knn_clf.fit(x_train, y_train)"
   ]
  },
  {
   "cell_type": "code",
   "execution_count": 19,
   "id": "1171abe3",
   "metadata": {},
   "outputs": [
    {
     "data": {
      "text/plain": [
       "array(['Center', 'Donut', 'Edge-Loc', 'Edge-Ring', 'Loc', 'Near-full',\n",
       "       'Random', 'Scratch'], dtype='<U9')"
      ]
     },
     "execution_count": 19,
     "metadata": {},
     "output_type": "execute_result"
    }
   ],
   "source": [
    "knn_clf.classes_"
   ]
  },
  {
   "cell_type": "code",
   "execution_count": 20,
   "id": "3dc857fa",
   "metadata": {},
   "outputs": [
    {
     "name": "stdout",
     "output_type": "stream",
     "text": [
      "              precision    recall  f1-score   support\n",
      "\n",
      "      Center       0.90      0.89      0.89      3462\n",
      "       Donut       0.95      0.85      0.90       409\n",
      "    Edge-Loc       0.83      0.72      0.77      2417\n",
      "   Edge-Ring       0.98      0.99      0.98      8554\n",
      "         Loc       0.54      0.79      0.64      1620\n",
      "   Near-full       0.67      0.83      0.74        54\n",
      "      Random       0.99      0.68      0.80       609\n",
      "     Scratch       0.68      0.45      0.54       500\n",
      "\n",
      "    accuracy                           0.88     17625\n",
      "   macro avg       0.82      0.77      0.78     17625\n",
      "weighted avg       0.90      0.88      0.88     17625\n",
      "\n",
      "Diagonal elements of confusion matrix: \n",
      "3067, 348, 1731, 8446, 1277, 45, 412, 225, "
     ]
    },
    {
     "data": {
      "text/plain": [
       "array([[3067,    3,   24,    2,  345,    0,    1,   20],\n",
       "       [  17,  348,   11,    6,   24,    0,    0,    3],\n",
       "       [  90,    1, 1731,   74,  488,    4,    0,   29],\n",
       "       [  14,    0,   42, 8446,   48,    0,    0,    4],\n",
       "       [ 105,   11,  158,   20, 1277,    1,    1,   47],\n",
       "       [   3,    0,    4,    0,    0,   45,    2,    0],\n",
       "       [  56,    3,   64,   27,   27,   17,  412,    3],\n",
       "       [  52,    0,   45,   22,  156,    0,    0,  225]], dtype=int64)"
      ]
     },
     "execution_count": 20,
     "metadata": {},
     "output_type": "execute_result"
    }
   ],
   "source": [
    "y_pred_train=knn_clf.predict(x_train)\n",
    "\n",
    "print(classification_report(y_train, y_pred_train))\n",
    "cm=confusion_matrix(y_train, y_pred_train)\n",
    "print('Diagonal elements of confusion matrix: ')\n",
    "for i in range(0,cm.shape[0]):\n",
    "    print(cm[i][i], end =\", \"),\n",
    "cm"
   ]
  },
  {
   "cell_type": "code",
   "execution_count": 21,
   "id": "4f1fb39a",
   "metadata": {},
   "outputs": [
    {
     "name": "stdout",
     "output_type": "stream",
     "text": [
      "              precision    recall  f1-score   support\n",
      "\n",
      "      Center       0.16      0.38      0.23       832\n",
      "       Donut       0.40      0.01      0.03       146\n",
      "    Edge-Loc       0.45      0.41      0.43      2772\n",
      "   Edge-Ring       0.56      0.44      0.49      1126\n",
      "         Loc       0.29      0.32      0.31      1973\n",
      "   Near-full       0.57      0.28      0.38        95\n",
      "      Random       0.19      0.04      0.06       257\n",
      "     Scratch       0.17      0.06      0.09       693\n",
      "\n",
      "    accuracy                           0.34      7894\n",
      "   macro avg       0.35      0.24      0.25      7894\n",
      "weighted avg       0.36      0.34      0.34      7894\n",
      "\n",
      "Diagonal elements of confusion matrix: \n",
      "317, 2, 1129, 490, 636, 27, 10, 42, "
     ]
    },
    {
     "data": {
      "text/plain": [
       "array([[ 317,    0,  136,    6,  345,    0,    1,   27],\n",
       "       [  28,    2,   10,    1,  103,    1,    1,    0],\n",
       "       [ 685,    0, 1129,  203,  701,    4,    2,   48],\n",
       "       [ 252,    0,  226,  490,  146,    0,    0,   12],\n",
       "       [ 448,    1,  688,   81,  636,    0,    6,  113],\n",
       "       [   6,    0,   23,    6,    1,   27,   32,    0],\n",
       "       [  94,    1,   64,   25,   46,   15,   10,    2],\n",
       "       [ 152,    1,  222,   62,  214,    0,    0,   42]], dtype=int64)"
      ]
     },
     "execution_count": 21,
     "metadata": {},
     "output_type": "execute_result"
    }
   ],
   "source": [
    "y_pred_test=knn_clf.predict(x_test)\n",
    "\n",
    "print(classification_report(y_test, y_pred_test))\n",
    "cm=confusion_matrix(y_test, y_pred_test)\n",
    "print('Diagonal elements of confusion matrix: ')\n",
    "for i in range(0,cm.shape[0]):\n",
    "    print(cm[i][i], end =\", \"),\n",
    "cm"
   ]
  },
  {
   "cell_type": "markdown",
   "id": "d2486909",
   "metadata": {},
   "source": [
    "**4.3 Random Forest Classifier**"
   ]
  },
  {
   "cell_type": "code",
   "execution_count": 22,
   "id": "4b6c71a7",
   "metadata": {
    "scrolled": true
   },
   "outputs": [
    {
     "data": {
      "text/plain": [
       "RandomForestClassifier(random_state=42)"
      ]
     },
     "execution_count": 22,
     "metadata": {},
     "output_type": "execute_result"
    }
   ],
   "source": [
    "from sklearn.ensemble import RandomForestClassifier\n",
    "\n",
    "rfc_clf = RandomForestClassifier(random_state=42)\n",
    "rfc_clf.fit(x_train, y_train)"
   ]
  },
  {
   "cell_type": "code",
   "execution_count": 23,
   "id": "3a278b13",
   "metadata": {},
   "outputs": [
    {
     "data": {
      "text/plain": [
       "array(['Center', 'Donut', 'Edge-Loc', 'Edge-Ring', 'Loc', 'Near-full',\n",
       "       'Random', 'Scratch'], dtype='<U9')"
      ]
     },
     "execution_count": 23,
     "metadata": {},
     "output_type": "execute_result"
    }
   ],
   "source": [
    "rfc_clf.classes_"
   ]
  },
  {
   "cell_type": "code",
   "execution_count": 24,
   "id": "9a7771b2",
   "metadata": {},
   "outputs": [
    {
     "name": "stdout",
     "output_type": "stream",
     "text": [
      "              precision    recall  f1-score   support\n",
      "\n",
      "      Center       1.00      1.00      1.00      3462\n",
      "       Donut       1.00      1.00      1.00       409\n",
      "    Edge-Loc       1.00      1.00      1.00      2417\n",
      "   Edge-Ring       1.00      1.00      1.00      8554\n",
      "         Loc       1.00      1.00      1.00      1620\n",
      "   Near-full       1.00      1.00      1.00        54\n",
      "      Random       1.00      1.00      1.00       609\n",
      "     Scratch       1.00      1.00      1.00       500\n",
      "\n",
      "    accuracy                           1.00     17625\n",
      "   macro avg       1.00      1.00      1.00     17625\n",
      "weighted avg       1.00      1.00      1.00     17625\n",
      "\n",
      "Diagonal elements of confusion matrix: \n",
      "3462, 409, 2417, 8554, 1620, 54, 609, 500, "
     ]
    },
    {
     "data": {
      "text/plain": [
       "array([[3462,    0,    0,    0,    0,    0,    0,    0],\n",
       "       [   0,  409,    0,    0,    0,    0,    0,    0],\n",
       "       [   0,    0, 2417,    0,    0,    0,    0,    0],\n",
       "       [   0,    0,    0, 8554,    0,    0,    0,    0],\n",
       "       [   0,    0,    0,    0, 1620,    0,    0,    0],\n",
       "       [   0,    0,    0,    0,    0,   54,    0,    0],\n",
       "       [   0,    0,    0,    0,    0,    0,  609,    0],\n",
       "       [   0,    0,    0,    0,    0,    0,    0,  500]], dtype=int64)"
      ]
     },
     "execution_count": 24,
     "metadata": {},
     "output_type": "execute_result"
    }
   ],
   "source": [
    "y_pred_train=rfc_clf.predict(x_train)\n",
    "\n",
    "print(classification_report(y_train, y_pred_train))\n",
    "cm=confusion_matrix(y_train, y_pred_train)\n",
    "print('Diagonal elements of confusion matrix: ')\n",
    "for i in range(0,cm.shape[0]):\n",
    "    print(cm[i][i], end =\", \"),\n",
    "cm"
   ]
  },
  {
   "cell_type": "code",
   "execution_count": 25,
   "id": "c47cb287",
   "metadata": {},
   "outputs": [
    {
     "name": "stdout",
     "output_type": "stream",
     "text": [
      "              precision    recall  f1-score   support\n",
      "\n",
      "      Center       0.31      0.21      0.25       832\n",
      "       Donut       0.40      0.01      0.03       146\n",
      "    Edge-Loc       0.41      0.56      0.47      2772\n",
      "   Edge-Ring       0.50      0.38      0.43      1126\n",
      "         Loc       0.27      0.34      0.30      1973\n",
      "   Near-full       0.96      0.23      0.37        95\n",
      "      Random       0.28      0.18      0.22       257\n",
      "     Scratch       0.20      0.03      0.06       693\n",
      "\n",
      "    accuracy                           0.37      7894\n",
      "   macro avg       0.42      0.24      0.27      7894\n",
      "weighted avg       0.36      0.37      0.35      7894\n",
      "\n",
      "Diagonal elements of confusion matrix: \n",
      "171, 2, 1545, 426, 665, 22, 46, 23, "
     ]
    },
    {
     "data": {
      "text/plain": [
       "array([[ 171,    0,  327,   56,  272,    0,    4,    2],\n",
       "       [   8,    2,   24,    1,  108,    0,    3,    0],\n",
       "       [ 138,    0, 1545,  180,  860,    0,   15,   34],\n",
       "       [  35,    0,  384,  426,  210,    0,   25,   46],\n",
       "       [ 119,    3, 1049,  115,  665,    0,   14,    8],\n",
       "       [   2,    0,   14,    0,    1,   22,   56,    0],\n",
       "       [  40,    0,  118,   19,   33,    1,   46,    0],\n",
       "       [  36,    0,  309,   52,  272,    0,    1,   23]], dtype=int64)"
      ]
     },
     "execution_count": 25,
     "metadata": {},
     "output_type": "execute_result"
    }
   ],
   "source": [
    "y_pred_test=rfc_clf.predict(x_test)\n",
    "\n",
    "print(classification_report(y_test, y_pred_test))\n",
    "cm=confusion_matrix(y_test, y_pred_test)\n",
    "print('Diagonal elements of confusion matrix: ')\n",
    "for i in range(0,cm.shape[0]):\n",
    "    print(cm[i][i], end =\", \"),\n",
    "cm"
   ]
  },
  {
   "cell_type": "markdown",
   "id": "4dc1c2c9",
   "metadata": {},
   "source": [
    "## 5. [['none']] type classification attempt"
   ]
  },
  {
   "cell_type": "code",
   "execution_count": 26,
   "id": "19dafed1",
   "metadata": {},
   "outputs": [
    {
     "data": {
      "text/html": [
       "<div>\n",
       "<style scoped>\n",
       "    .dataframe tbody tr th:only-of-type {\n",
       "        vertical-align: middle;\n",
       "    }\n",
       "\n",
       "    .dataframe tbody tr th {\n",
       "        vertical-align: top;\n",
       "    }\n",
       "\n",
       "    .dataframe thead th {\n",
       "        text-align: right;\n",
       "    }\n",
       "</style>\n",
       "<table border=\"1\" class=\"dataframe\">\n",
       "  <thead>\n",
       "    <tr style=\"text-align: right;\">\n",
       "      <th></th>\n",
       "      <th>waferMap</th>\n",
       "      <th>dieSize</th>\n",
       "      <th>lotName</th>\n",
       "      <th>waferIndex</th>\n",
       "      <th>trianTestLabel</th>\n",
       "      <th>failureType</th>\n",
       "      <th>failure_ordinal_enc</th>\n",
       "      <th>waferMapDim</th>\n",
       "    </tr>\n",
       "  </thead>\n",
       "  <tbody>\n",
       "    <tr>\n",
       "      <th>0</th>\n",
       "      <td>[[0, 0, 0, 0, 0, 0, 0, 0, 0, 0, 0, 0, 0, 0, 0,...</td>\n",
       "      <td>1683.0</td>\n",
       "      <td>lot1</td>\n",
       "      <td>1.0</td>\n",
       "      <td>[[Training]]</td>\n",
       "      <td>[[none]]</td>\n",
       "      <td>8</td>\n",
       "      <td>(45, 48)</td>\n",
       "    </tr>\n",
       "    <tr>\n",
       "      <th>1</th>\n",
       "      <td>[[0, 0, 0, 0, 0, 0, 0, 0, 0, 0, 0, 0, 0, 0, 0,...</td>\n",
       "      <td>1683.0</td>\n",
       "      <td>lot1</td>\n",
       "      <td>2.0</td>\n",
       "      <td>[[Training]]</td>\n",
       "      <td>[[none]]</td>\n",
       "      <td>8</td>\n",
       "      <td>(45, 48)</td>\n",
       "    </tr>\n",
       "    <tr>\n",
       "      <th>2</th>\n",
       "      <td>[[0, 0, 0, 0, 0, 0, 0, 0, 0, 0, 0, 0, 0, 0, 0,...</td>\n",
       "      <td>1683.0</td>\n",
       "      <td>lot1</td>\n",
       "      <td>3.0</td>\n",
       "      <td>[[Training]]</td>\n",
       "      <td>[[none]]</td>\n",
       "      <td>8</td>\n",
       "      <td>(45, 48)</td>\n",
       "    </tr>\n",
       "    <tr>\n",
       "      <th>3</th>\n",
       "      <td>[[0, 0, 0, 0, 0, 0, 0, 0, 0, 0, 0, 0, 0, 0, 0,...</td>\n",
       "      <td>1683.0</td>\n",
       "      <td>lot1</td>\n",
       "      <td>4.0</td>\n",
       "      <td>[[Training]]</td>\n",
       "      <td>[[none]]</td>\n",
       "      <td>8</td>\n",
       "      <td>(45, 48)</td>\n",
       "    </tr>\n",
       "    <tr>\n",
       "      <th>4</th>\n",
       "      <td>[[0, 0, 0, 0, 0, 0, 0, 0, 0, 0, 0, 0, 0, 0, 0,...</td>\n",
       "      <td>1683.0</td>\n",
       "      <td>lot1</td>\n",
       "      <td>5.0</td>\n",
       "      <td>[[Training]]</td>\n",
       "      <td>[[none]]</td>\n",
       "      <td>8</td>\n",
       "      <td>(45, 48)</td>\n",
       "    </tr>\n",
       "  </tbody>\n",
       "</table>\n",
       "</div>"
      ],
      "text/plain": [
       "                                            waferMap  dieSize lotName  \\\n",
       "0  [[0, 0, 0, 0, 0, 0, 0, 0, 0, 0, 0, 0, 0, 0, 0,...   1683.0    lot1   \n",
       "1  [[0, 0, 0, 0, 0, 0, 0, 0, 0, 0, 0, 0, 0, 0, 0,...   1683.0    lot1   \n",
       "2  [[0, 0, 0, 0, 0, 0, 0, 0, 0, 0, 0, 0, 0, 0, 0,...   1683.0    lot1   \n",
       "3  [[0, 0, 0, 0, 0, 0, 0, 0, 0, 0, 0, 0, 0, 0, 0,...   1683.0    lot1   \n",
       "4  [[0, 0, 0, 0, 0, 0, 0, 0, 0, 0, 0, 0, 0, 0, 0,...   1683.0    lot1   \n",
       "\n",
       "   waferIndex trianTestLabel failureType failure_ordinal_enc waferMapDim  \n",
       "0         1.0   [[Training]]    [[none]]                   8    (45, 48)  \n",
       "1         2.0   [[Training]]    [[none]]                   8    (45, 48)  \n",
       "2         3.0   [[Training]]    [[none]]                   8    (45, 48)  \n",
       "3         4.0   [[Training]]    [[none]]                   8    (45, 48)  \n",
       "4         5.0   [[Training]]    [[none]]                   8    (45, 48)  "
      ]
     },
     "execution_count": 26,
     "metadata": {},
     "output_type": "execute_result"
    }
   ],
   "source": [
    "df_with_defect_none = df_with_defect[(df_with_defect['failure_ordinal_enc']==8)]\n",
    "df_with_defect_none.head()"
   ]
  },
  {
   "cell_type": "code",
   "execution_count": 27,
   "id": "bc98d5b1",
   "metadata": {},
   "outputs": [],
   "source": [
    "x_none_unproc=df_with_defect_none.waferMap.reset_index()\n",
    "\n",
    "# making wafer map dimensions (size) equal to fit in the classifier\n",
    "x_none=[]\n",
    "for i in range(x_none_unproc.shape[0]):\n",
    "    img=x_none_unproc['waferMap'][i].copy()\n",
    "    img.resize(220,90)\n",
    "    img_new=img.reshape(-1)\n",
    "    x_none.append(img_new)"
   ]
  },
  {
   "cell_type": "code",
   "execution_count": 28,
   "id": "ec68effa",
   "metadata": {},
   "outputs": [],
   "source": [
    "y_none_pred=knn_clf.predict(x_none)"
   ]
  },
  {
   "cell_type": "code",
   "execution_count": 31,
   "id": "25a026c4",
   "metadata": {
    "scrolled": false
   },
   "outputs": [
    {
     "data": {
      "text/html": [
       "<div>\n",
       "<style scoped>\n",
       "    .dataframe tbody tr th:only-of-type {\n",
       "        vertical-align: middle;\n",
       "    }\n",
       "\n",
       "    .dataframe tbody tr th {\n",
       "        vertical-align: top;\n",
       "    }\n",
       "\n",
       "    .dataframe thead th {\n",
       "        text-align: right;\n",
       "    }\n",
       "</style>\n",
       "<table border=\"1\" class=\"dataframe\">\n",
       "  <thead>\n",
       "    <tr style=\"text-align: right;\">\n",
       "      <th></th>\n",
       "      <th>waferMap</th>\n",
       "      <th>dieSize</th>\n",
       "      <th>lotName</th>\n",
       "      <th>waferIndex</th>\n",
       "      <th>trianTestLabel</th>\n",
       "      <th>failureType</th>\n",
       "      <th>failure_ordinal_enc</th>\n",
       "      <th>waferMapDim</th>\n",
       "      <th>alternateDefect</th>\n",
       "    </tr>\n",
       "  </thead>\n",
       "  <tbody>\n",
       "    <tr>\n",
       "      <th>0</th>\n",
       "      <td>[[0, 0, 0, 0, 0, 0, 0, 0, 0, 0, 0, 0, 0, 0, 0,...</td>\n",
       "      <td>1683.0</td>\n",
       "      <td>lot1</td>\n",
       "      <td>1.0</td>\n",
       "      <td>[[Training]]</td>\n",
       "      <td>[[none]]</td>\n",
       "      <td>8</td>\n",
       "      <td>(45, 48)</td>\n",
       "      <td>Center</td>\n",
       "    </tr>\n",
       "    <tr>\n",
       "      <th>1</th>\n",
       "      <td>[[0, 0, 0, 0, 0, 0, 0, 0, 0, 0, 0, 0, 0, 0, 0,...</td>\n",
       "      <td>1683.0</td>\n",
       "      <td>lot1</td>\n",
       "      <td>2.0</td>\n",
       "      <td>[[Training]]</td>\n",
       "      <td>[[none]]</td>\n",
       "      <td>8</td>\n",
       "      <td>(45, 48)</td>\n",
       "      <td>Center</td>\n",
       "    </tr>\n",
       "    <tr>\n",
       "      <th>2</th>\n",
       "      <td>[[0, 0, 0, 0, 0, 0, 0, 0, 0, 0, 0, 0, 0, 0, 0,...</td>\n",
       "      <td>1683.0</td>\n",
       "      <td>lot1</td>\n",
       "      <td>3.0</td>\n",
       "      <td>[[Training]]</td>\n",
       "      <td>[[none]]</td>\n",
       "      <td>8</td>\n",
       "      <td>(45, 48)</td>\n",
       "      <td>Center</td>\n",
       "    </tr>\n",
       "    <tr>\n",
       "      <th>3</th>\n",
       "      <td>[[0, 0, 0, 0, 0, 0, 0, 0, 0, 0, 0, 0, 0, 0, 0,...</td>\n",
       "      <td>1683.0</td>\n",
       "      <td>lot1</td>\n",
       "      <td>4.0</td>\n",
       "      <td>[[Training]]</td>\n",
       "      <td>[[none]]</td>\n",
       "      <td>8</td>\n",
       "      <td>(45, 48)</td>\n",
       "      <td>Center</td>\n",
       "    </tr>\n",
       "    <tr>\n",
       "      <th>4</th>\n",
       "      <td>[[0, 0, 0, 0, 0, 0, 0, 0, 0, 0, 0, 0, 0, 0, 0,...</td>\n",
       "      <td>1683.0</td>\n",
       "      <td>lot1</td>\n",
       "      <td>5.0</td>\n",
       "      <td>[[Training]]</td>\n",
       "      <td>[[none]]</td>\n",
       "      <td>8</td>\n",
       "      <td>(45, 48)</td>\n",
       "      <td>Center</td>\n",
       "    </tr>\n",
       "    <tr>\n",
       "      <th>...</th>\n",
       "      <td>...</td>\n",
       "      <td>...</td>\n",
       "      <td>...</td>\n",
       "      <td>...</td>\n",
       "      <td>...</td>\n",
       "      <td>...</td>\n",
       "      <td>...</td>\n",
       "      <td>...</td>\n",
       "      <td>...</td>\n",
       "    </tr>\n",
       "    <tr>\n",
       "      <th>811438</th>\n",
       "      <td>[[0, 0, 0, 0, 0, 0, 0, 0, 0, 0, 0, 1, 2, 1, 1,...</td>\n",
       "      <td>600.0</td>\n",
       "      <td>lot47542</td>\n",
       "      <td>9.0</td>\n",
       "      <td>[[Test]]</td>\n",
       "      <td>[[none]]</td>\n",
       "      <td>8</td>\n",
       "      <td>(26, 30)</td>\n",
       "      <td>Edge-Loc</td>\n",
       "    </tr>\n",
       "    <tr>\n",
       "      <th>811439</th>\n",
       "      <td>[[0, 0, 0, 0, 0, 0, 0, 0, 0, 0, 0, 1, 1, 1, 1,...</td>\n",
       "      <td>600.0</td>\n",
       "      <td>lot47542</td>\n",
       "      <td>10.0</td>\n",
       "      <td>[[Test]]</td>\n",
       "      <td>[[none]]</td>\n",
       "      <td>8</td>\n",
       "      <td>(26, 30)</td>\n",
       "      <td>Edge-Loc</td>\n",
       "    </tr>\n",
       "    <tr>\n",
       "      <th>811442</th>\n",
       "      <td>[[0, 0, 0, 0, 0, 0, 0, 0, 0, 0, 0, 2, 1, 1, 1,...</td>\n",
       "      <td>600.0</td>\n",
       "      <td>lot47542</td>\n",
       "      <td>13.0</td>\n",
       "      <td>[[Test]]</td>\n",
       "      <td>[[none]]</td>\n",
       "      <td>8</td>\n",
       "      <td>(26, 30)</td>\n",
       "      <td>Edge-Loc</td>\n",
       "    </tr>\n",
       "    <tr>\n",
       "      <th>811445</th>\n",
       "      <td>[[0, 0, 0, 0, 0, 0, 0, 0, 0, 0, 0, 1, 1, 1, 1,...</td>\n",
       "      <td>600.0</td>\n",
       "      <td>lot47542</td>\n",
       "      <td>16.0</td>\n",
       "      <td>[[Test]]</td>\n",
       "      <td>[[none]]</td>\n",
       "      <td>8</td>\n",
       "      <td>(26, 30)</td>\n",
       "      <td>Edge-Loc</td>\n",
       "    </tr>\n",
       "    <tr>\n",
       "      <th>811449</th>\n",
       "      <td>[[0, 0, 0, 0, 0, 0, 0, 0, 0, 0, 0, 1, 1, 1, 1,...</td>\n",
       "      <td>600.0</td>\n",
       "      <td>lot47542</td>\n",
       "      <td>20.0</td>\n",
       "      <td>[[Test]]</td>\n",
       "      <td>[[none]]</td>\n",
       "      <td>8</td>\n",
       "      <td>(26, 30)</td>\n",
       "      <td>Edge-Loc</td>\n",
       "    </tr>\n",
       "  </tbody>\n",
       "</table>\n",
       "<p>147431 rows × 9 columns</p>\n",
       "</div>"
      ],
      "text/plain": [
       "                                                 waferMap  dieSize   lotName  \\\n",
       "0       [[0, 0, 0, 0, 0, 0, 0, 0, 0, 0, 0, 0, 0, 0, 0,...   1683.0      lot1   \n",
       "1       [[0, 0, 0, 0, 0, 0, 0, 0, 0, 0, 0, 0, 0, 0, 0,...   1683.0      lot1   \n",
       "2       [[0, 0, 0, 0, 0, 0, 0, 0, 0, 0, 0, 0, 0, 0, 0,...   1683.0      lot1   \n",
       "3       [[0, 0, 0, 0, 0, 0, 0, 0, 0, 0, 0, 0, 0, 0, 0,...   1683.0      lot1   \n",
       "4       [[0, 0, 0, 0, 0, 0, 0, 0, 0, 0, 0, 0, 0, 0, 0,...   1683.0      lot1   \n",
       "...                                                   ...      ...       ...   \n",
       "811438  [[0, 0, 0, 0, 0, 0, 0, 0, 0, 0, 0, 1, 2, 1, 1,...    600.0  lot47542   \n",
       "811439  [[0, 0, 0, 0, 0, 0, 0, 0, 0, 0, 0, 1, 1, 1, 1,...    600.0  lot47542   \n",
       "811442  [[0, 0, 0, 0, 0, 0, 0, 0, 0, 0, 0, 2, 1, 1, 1,...    600.0  lot47542   \n",
       "811445  [[0, 0, 0, 0, 0, 0, 0, 0, 0, 0, 0, 1, 1, 1, 1,...    600.0  lot47542   \n",
       "811449  [[0, 0, 0, 0, 0, 0, 0, 0, 0, 0, 0, 1, 1, 1, 1,...    600.0  lot47542   \n",
       "\n",
       "        waferIndex trianTestLabel failureType failure_ordinal_enc waferMapDim  \\\n",
       "0              1.0   [[Training]]    [[none]]                   8    (45, 48)   \n",
       "1              2.0   [[Training]]    [[none]]                   8    (45, 48)   \n",
       "2              3.0   [[Training]]    [[none]]                   8    (45, 48)   \n",
       "3              4.0   [[Training]]    [[none]]                   8    (45, 48)   \n",
       "4              5.0   [[Training]]    [[none]]                   8    (45, 48)   \n",
       "...            ...            ...         ...                 ...         ...   \n",
       "811438         9.0       [[Test]]    [[none]]                   8    (26, 30)   \n",
       "811439        10.0       [[Test]]    [[none]]                   8    (26, 30)   \n",
       "811442        13.0       [[Test]]    [[none]]                   8    (26, 30)   \n",
       "811445        16.0       [[Test]]    [[none]]                   8    (26, 30)   \n",
       "811449        20.0       [[Test]]    [[none]]                   8    (26, 30)   \n",
       "\n",
       "       alternateDefect  \n",
       "0               Center  \n",
       "1               Center  \n",
       "2               Center  \n",
       "3               Center  \n",
       "4               Center  \n",
       "...                ...  \n",
       "811438        Edge-Loc  \n",
       "811439        Edge-Loc  \n",
       "811442        Edge-Loc  \n",
       "811445        Edge-Loc  \n",
       "811449        Edge-Loc  \n",
       "\n",
       "[147431 rows x 9 columns]"
      ]
     },
     "execution_count": 31,
     "metadata": {},
     "output_type": "execute_result"
    }
   ],
   "source": [
    "df_with_defect_none['alternateDefect']=y_none_pred\n",
    "df_with_defect_none"
   ]
  },
  {
   "cell_type": "code",
   "execution_count": 30,
   "id": "25540964",
   "metadata": {},
   "outputs": [
    {
     "name": "stdout",
     "output_type": "stream",
     "text": [
      "Counter({'Loc': 47007, 'Edge-Loc': 45210, 'Center': 33517, 'Edge-Ring': 11782, 'Scratch': 9914, 'Random': 1})\n"
     ]
    }
   ],
   "source": [
    "import collections\n",
    "\n",
    "counter=collections.Counter(y_none_pred)\n",
    "print(counter)"
   ]
  }
 ],
 "metadata": {
  "kernelspec": {
   "display_name": "Python 3",
   "language": "python",
   "name": "python3"
  },
  "language_info": {
   "codemirror_mode": {
    "name": "ipython",
    "version": 3
   },
   "file_extension": ".py",
   "mimetype": "text/x-python",
   "name": "python",
   "nbconvert_exporter": "python",
   "pygments_lexer": "ipython3",
   "version": "3.8.8"
  }
 },
 "nbformat": 4,
 "nbformat_minor": 5
}
